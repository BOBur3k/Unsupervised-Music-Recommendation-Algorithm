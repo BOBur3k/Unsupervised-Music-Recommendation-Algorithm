{
 "cells": [
  {
   "cell_type": "markdown",
   "metadata": {},
   "source": [
    "Report "
   ]
  },
  {
   "cell_type": "markdown",
   "metadata": {},
   "source": [
    "Which insights did you gain from your EDA? Were any columns highly correlated? If so, name them. \n",
    "\n",
    "- EDA analyzis tell me a lot about the data and I even feel like there is soo much more left to explore! \n",
    "- Combination of the Hip Hop and Obsenity in the music is relatively new trend and start rising at the beggining of the 2010s \n",
    "- Out of 5424 artist presented on the DF only 3308 are released more than 1 songs. The top 10 artists are not HIP-HOP, RAGGIE or POP artists "
   ]
  },
  {
   "cell_type": "markdown",
   "metadata": {},
   "source": [
    "How did you determine which columns to drop or keep? If your EDA informed this process, explain which insights you used to determine which columns were not needed.\n",
    "- First I looked at their type, if it is categorical, we need to drop it because they can be directly fit the HEATMAP and K-Means model\n",
    "- Then use HEATMAP to determine which one of them have significant high or low correlation to other demensions \n",
    "- Lastly the logicaly odd columns were eliminated (Lyrics and Unnamed)"
   ]
  },
  {
   "cell_type": "markdown",
   "metadata": {},
   "source": [
    "What was the optimal number of clusters in your cluster model? Explain how you determined this value.\n",
    "- I choose 5 because it was one of the common ones between Elbow and Silhoutte Plots. \n",
    "- Silhoutte Plot suggested to use bigger number for clusers but I was afraid of having too much clusters for our data. During the practice runs, I noticed that with big number for clusters, model start classifying the DF based on the topics and when the TEST data used, results are just flat singel number (usualy 2 or 0 for each row of the TEST DF) "
   ]
  },
  {
   "cell_type": "markdown",
   "metadata": {},
   "source": [
    "Take a look at the respective songs that fell into your clusters. Describe these clusters in human terms to the best of your ability using the columns in your dataset (for example high-gospel songs, low-gospel songs, etc). Feel free to listen to these songs as well to get a sense of what nuance your algorithm picked up on.\n",
    "\n",
    "Cluster 0: Songs with the common theme of night/time, good for Communication but bad for anything else. \n",
    "\n",
    "Cluster 1: Songs that are NOT GOOD FIT for dating, romantic, family/gospel and even light outdoor activities. They are pretty Violent. \n",
    "\n",
    "Cluster 2: Only 1 song that have a theme of obsene and genre of ROCK and OK for night/time. \n",
    "\n",
    "Cluster 3: Pretty old songs from 1950s and 1960s, DON'T shake the audience, don't have any obsence language, and not about the music. \n",
    "\n",
    "Cluster 4: \"Hello darkness my old friend\" classify songs that about sadness...\n"
   ]
  },
  {
   "cell_type": "markdown",
   "metadata": {},
   "source": [
    "Take a look at the clusters that your algorithm assigned to your test samples. Based on these clusters, which songs would you recommend to this user?\n",
    "\n",
    "Here is the recomendation tool taht can help with song recomendations for the end user"
   ]
  },
  {
   "cell_type": "code",
   "execution_count": 2,
   "metadata": {},
   "outputs": [
    {
     "data": {
      "text/html": [
       "<div>\n",
       "<style scoped>\n",
       "    .dataframe tbody tr th:only-of-type {\n",
       "        vertical-align: middle;\n",
       "    }\n",
       "\n",
       "    .dataframe tbody tr th {\n",
       "        vertical-align: top;\n",
       "    }\n",
       "\n",
       "    .dataframe thead th {\n",
       "        text-align: right;\n",
       "    }\n",
       "</style>\n",
       "<table border=\"1\" class=\"dataframe\">\n",
       "  <thead>\n",
       "    <tr style=\"text-align: right;\">\n",
       "      <th></th>\n",
       "      <th>Unnamed: 0</th>\n",
       "      <th>artist_name</th>\n",
       "      <th>track_name</th>\n",
       "      <th>release_date</th>\n",
       "      <th>Class</th>\n",
       "    </tr>\n",
       "  </thead>\n",
       "  <tbody>\n",
       "    <tr>\n",
       "      <th>0</th>\n",
       "      <td>0</td>\n",
       "      <td>godsmack</td>\n",
       "      <td>immune</td>\n",
       "      <td>1998</td>\n",
       "      <td>1</td>\n",
       "    </tr>\n",
       "    <tr>\n",
       "      <th>1</th>\n",
       "      <td>1</td>\n",
       "      <td>dennis brown</td>\n",
       "      <td>second chance</td>\n",
       "      <td>1993</td>\n",
       "      <td>0</td>\n",
       "    </tr>\n",
       "    <tr>\n",
       "      <th>2</th>\n",
       "      <td>2</td>\n",
       "      <td>the black crowes</td>\n",
       "      <td>sister luck</td>\n",
       "      <td>1990</td>\n",
       "      <td>1</td>\n",
       "    </tr>\n",
       "    <tr>\n",
       "      <th>3</th>\n",
       "      <td>3</td>\n",
       "      <td>jerry lee lewis</td>\n",
       "      <td>your cheating heart</td>\n",
       "      <td>1960</td>\n",
       "      <td>3</td>\n",
       "    </tr>\n",
       "    <tr>\n",
       "      <th>4</th>\n",
       "      <td>4</td>\n",
       "      <td>paul anka</td>\n",
       "      <td>eso beso</td>\n",
       "      <td>1966</td>\n",
       "      <td>3</td>\n",
       "    </tr>\n",
       "    <tr>\n",
       "      <th>5</th>\n",
       "      <td>5</td>\n",
       "      <td>noro morales</td>\n",
       "      <td>silencio</td>\n",
       "      <td>1952</td>\n",
       "      <td>3</td>\n",
       "    </tr>\n",
       "    <tr>\n",
       "      <th>6</th>\n",
       "      <td>6</td>\n",
       "      <td>rage against the machine</td>\n",
       "      <td>pistol grip pump</td>\n",
       "      <td>2000</td>\n",
       "      <td>2</td>\n",
       "    </tr>\n",
       "    <tr>\n",
       "      <th>7</th>\n",
       "      <td>7</td>\n",
       "      <td>taste</td>\n",
       "      <td>railway and gun</td>\n",
       "      <td>1970</td>\n",
       "      <td>3</td>\n",
       "    </tr>\n",
       "    <tr>\n",
       "      <th>8</th>\n",
       "      <td>8</td>\n",
       "      <td>randy travis</td>\n",
       "      <td>messin' with my mind</td>\n",
       "      <td>1986</td>\n",
       "      <td>0</td>\n",
       "    </tr>\n",
       "    <tr>\n",
       "      <th>9</th>\n",
       "      <td>9</td>\n",
       "      <td>paramore</td>\n",
       "      <td>playing god</td>\n",
       "      <td>2009</td>\n",
       "      <td>1</td>\n",
       "    </tr>\n",
       "  </tbody>\n",
       "</table>\n",
       "</div>"
      ],
      "text/plain": [
       "   Unnamed: 0               artist_name            track_name  release_date  \\\n",
       "0           0                  godsmack                immune          1998   \n",
       "1           1              dennis brown         second chance          1993   \n",
       "2           2          the black crowes           sister luck          1990   \n",
       "3           3           jerry lee lewis   your cheating heart          1960   \n",
       "4           4                 paul anka              eso beso          1966   \n",
       "5           5              noro morales              silencio          1952   \n",
       "6           6  rage against the machine      pistol grip pump          2000   \n",
       "7           7                     taste       railway and gun          1970   \n",
       "8           8              randy travis  messin' with my mind          1986   \n",
       "9           9                  paramore           playing god          2009   \n",
       "\n",
       "   Class  \n",
       "0      1  \n",
       "1      0  \n",
       "2      1  \n",
       "3      3  \n",
       "4      3  \n",
       "5      3  \n",
       "6      2  \n",
       "7      3  \n",
       "8      0  \n",
       "9      1  "
      ]
     },
     "execution_count": 2,
     "metadata": {},
     "output_type": "execute_result"
    }
   ],
   "source": [
    "#following code is useful to help user to get the song that they will like based on at least one song from the provided list \n",
    "import pandas as pd \n",
    "\n",
    "test_results = pd.read_csv('recomendations.csv')\n",
    "\n",
    "test_results"
   ]
  },
  {
   "cell_type": "code",
   "execution_count": 3,
   "metadata": {},
   "outputs": [
    {
     "name": "stdout",
     "output_type": "stream",
     "text": [
      "Here is the list of our songs:\n",
      "\n"
     ]
    },
    {
     "data": {
      "text/plain": [
       "0                  immune\n",
       "1           second chance\n",
       "2             sister luck\n",
       "3     your cheating heart\n",
       "4                eso beso\n",
       "5                silencio\n",
       "6        pistol grip pump\n",
       "7         railway and gun\n",
       "8    messin' with my mind\n",
       "9             playing god\n",
       "Name: track_name, dtype: object"
      ]
     },
     "execution_count": 3,
     "metadata": {},
     "output_type": "execute_result"
    }
   ],
   "source": [
    "#Interactive Overview, just type what name of the song you are listening to and I will help you to find the song based on this classifier model \n",
    "#Part 1 \n",
    "\n",
    "print(\"Here is the list of our songs:\\n\")\n",
    "test_results['track_name']"
   ]
  },
  {
   "cell_type": "code",
   "execution_count": 4,
   "metadata": {},
   "outputs": [
    {
     "name": "stdout",
     "output_type": "stream",
     "text": [
      "\n",
      "The next song for you is: \n",
      " Eso Beso by Paul Anka \n",
      " Silencio by Noro Morales \n",
      " Railway and Gun by Taste\n"
     ]
    }
   ],
   "source": [
    "# part 2 simple version of the concept that can help suggest songs based on your currently playing song. \n",
    "select1 = input(\"What song are you listing to? (choose song from the list OR just type the corresponded number)\")\n",
    "select1 \n",
    "\n",
    "if select1 == \"immune\" or select1 == \"0\":\n",
    "    print(\"\\nThe next song for you is: \\n Sister Luck by The Black Crowes \\n Playing God by Paramore\")\n",
    "elif select1 == \"second chance\" or select1 ==\"1\":\n",
    "    print(\"\\nThe next song for you is: \\n Messin' with my mind by Randy Travis\")\n",
    "elif select1 == \"sister luck\" or select1 ==\"2\":\n",
    "    print(\"\\nThe next song for you is: \\n Immune by Godsmack \\n Playing God by Paramore \")\n",
    "elif select1 == \"your cheating heart\" or select1 ==\"3\":\n",
    "    print(\"\\nThe next song for you is: \\n Eso Beso by Paul Anka \\n Silencio by Noro Morales \\n Railway and Gun by Taste\")\n",
    "elif select1 == \"eso banko\" or select1 ==\"4\":\n",
    "    print(\"\\nThe next song for you is: \\n Your Cheaeting Heart by Jerry Lee Lewis \\n Silencio by Noro Morales \\n Railway and Gun by Taste\")\n",
    "elif select1 == \"silencio\" or select1 ==\"5\":\n",
    "    print(\"\\nThe next song for you is: \\n Eso Beso by Paul Anka \\n Your Cheaeting Heart by Jerry Lee Lewis \\n Railway and Gun by Taste\")\n",
    "elif select1 == \"pistol grip pump\" or select1 ==\"6\":\n",
    "    print(\"\\nYour music taste is unique and currenty we do not have any song recomendations for you...we promise we will find you next recomendations soon, choose another song\")\n",
    "elif select1 == \"railway and gun\" or select1 ==\"7\":\n",
    "    print(\"\\nThe next song for you is: \\n Eso Beso by Paul Anka \\n Your Cheaeting Heart by Jerry Lee Lewis \\n Silencio by Noro Morales\")\n",
    "elif select1 == \"messin' with my mind\" or select1 ==\"8\":\n",
    "    print(\"\\nThe next song for you is: \\n Second Chance by Dennis Brown\")\n",
    "elif select1 == \"playing god\" or select1 ==\"9\":\n",
    "    print(\"\\nThe next song for you is: \\n Immune by Godsmack \\n Playing God by Paramore \\n Sister Luck by The Black Crowes\")"
   ]
  }
 ],
 "metadata": {
  "kernelspec": {
   "display_name": "phase1",
   "language": "python",
   "name": "python3"
  },
  "language_info": {
   "codemirror_mode": {
    "name": "ipython",
    "version": 3
   },
   "file_extension": ".py",
   "mimetype": "text/x-python",
   "name": "python",
   "nbconvert_exporter": "python",
   "pygments_lexer": "ipython3",
   "version": "3.9.18"
  }
 },
 "nbformat": 4,
 "nbformat_minor": 2
}
